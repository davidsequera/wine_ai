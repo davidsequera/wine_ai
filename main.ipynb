{
 "cells": [
  {
   "cell_type": "markdown",
   "id": "45b264c1",
   "metadata": {},
   "source": [
    "# RRNN - keras"
   ]
  },
  {
   "cell_type": "markdown",
   "id": "757011af",
   "metadata": {},
   "source": [
    "### librerias"
   ]
  },
  {
   "cell_type": "code",
   "execution_count": 1,
   "id": "fdc57f71",
   "metadata": {},
   "outputs": [],
   "source": [
    "import numpy as np\n",
    "import matplotlib.pyplot as plt\n",
    "import pandas as pd"
   ]
  },
  {
   "cell_type": "markdown",
   "id": "bb04c6ad",
   "metadata": {},
   "source": [
    "### importar dataset"
   ]
  },
  {
   "cell_type": "code",
   "execution_count": 2,
   "id": "5e10dbdd",
   "metadata": {},
   "outputs": [],
   "source": [
    "dataset = pd.read_csv('Iris2.csv')"
   ]
  },
  {
   "cell_type": "markdown",
   "id": "301adafe",
   "metadata": {},
   "source": [
    "### seleccion de variables"
   ]
  },
  {
   "cell_type": "code",
   "execution_count": 3,
   "id": "4d00aff4",
   "metadata": {},
   "outputs": [
    {
     "data": {
      "text/plain": [
       "array([[5.1, 3.5, 1.4, 0.2],\n",
       "       [4.9, 3. , 1.4, 0.2],\n",
       "       [4.7, 3.2, 1.3, 0.2],\n",
       "       [4.6, 3.1, 1.5, 0.2],\n",
       "       [5. , 3.6, 1.4, 0.2],\n",
       "       [5.4, 3.9, 1.7, 0.4],\n",
       "       [4.6, 3.4, 1.4, 0.3],\n",
       "       [5. , 3.4, 1.5, 0.2],\n",
       "       [4.4, 2.9, 1.4, 0.2],\n",
       "       [4.9, 3.1, 1.5, 0.1],\n",
       "       [5.4, 3.7, 1.5, 0.2],\n",
       "       [4.8, 3.4, 1.6, 0.2],\n",
       "       [4.8, 3. , 1.4, 0.1],\n",
       "       [4.3, 3. , 1.1, 0.1],\n",
       "       [5.8, 4. , 1.2, 0.2],\n",
       "       [5.7, 4.4, 1.5, 0.4],\n",
       "       [5.4, 3.9, 1.3, 0.4],\n",
       "       [5.1, 3.5, 1.4, 0.3],\n",
       "       [5.7, 3.8, 1.7, 0.3],\n",
       "       [5.1, 3.8, 1.5, 0.3],\n",
       "       [5.4, 3.4, 1.7, 0.2],\n",
       "       [5.1, 3.7, 1.5, 0.4],\n",
       "       [4.6, 3.6, 1. , 0.2],\n",
       "       [5.1, 3.3, 1.7, 0.5],\n",
       "       [4.8, 3.4, 1.9, 0.2],\n",
       "       [5. , 3. , 1.6, 0.2],\n",
       "       [5. , 3.4, 1.6, 0.4],\n",
       "       [5.2, 3.5, 1.5, 0.2],\n",
       "       [5.2, 3.4, 1.4, 0.2],\n",
       "       [4.7, 3.2, 1.6, 0.2],\n",
       "       [4.8, 3.1, 1.6, 0.2],\n",
       "       [5.4, 3.4, 1.5, 0.4],\n",
       "       [5.2, 4.1, 1.5, 0.1],\n",
       "       [5.5, 4.2, 1.4, 0.2],\n",
       "       [4.9, 3.1, 1.5, 0.1],\n",
       "       [5. , 3.2, 1.2, 0.2],\n",
       "       [5.5, 3.5, 1.3, 0.2],\n",
       "       [4.9, 3.1, 1.5, 0.1],\n",
       "       [4.4, 3. , 1.3, 0.2],\n",
       "       [5.1, 3.4, 1.5, 0.2],\n",
       "       [5. , 3.5, 1.3, 0.3],\n",
       "       [4.5, 2.3, 1.3, 0.3],\n",
       "       [4.4, 3.2, 1.3, 0.2],\n",
       "       [5. , 3.5, 1.6, 0.6],\n",
       "       [5.1, 3.8, 1.9, 0.4],\n",
       "       [4.8, 3. , 1.4, 0.3],\n",
       "       [5.1, 3.8, 1.6, 0.2],\n",
       "       [4.6, 3.2, 1.4, 0.2],\n",
       "       [5.3, 3.7, 1.5, 0.2],\n",
       "       [5. , 3.3, 1.4, 0.2],\n",
       "       [7. , 3.2, 4.7, 1.4],\n",
       "       [6.4, 3.2, 4.5, 1.5],\n",
       "       [6.9, 3.1, 4.9, 1.5],\n",
       "       [5.5, 2.3, 4. , 1.3],\n",
       "       [6.5, 2.8, 4.6, 1.5],\n",
       "       [5.7, 2.8, 4.5, 1.3],\n",
       "       [6.3, 3.3, 4.7, 1.6],\n",
       "       [4.9, 2.4, 3.3, 1. ],\n",
       "       [6.6, 2.9, 4.6, 1.3],\n",
       "       [5.2, 2.7, 3.9, 1.4],\n",
       "       [5. , 2. , 3.5, 1. ],\n",
       "       [5.9, 3. , 4.2, 1.5],\n",
       "       [6. , 2.2, 4. , 1. ],\n",
       "       [6.1, 2.9, 4.7, 1.4],\n",
       "       [5.6, 2.9, 3.6, 1.3],\n",
       "       [6.7, 3.1, 4.4, 1.4],\n",
       "       [5.6, 3. , 4.5, 1.5],\n",
       "       [5.8, 2.7, 4.1, 1. ],\n",
       "       [6.2, 2.2, 4.5, 1.5],\n",
       "       [5.6, 2.5, 3.9, 1.1],\n",
       "       [5.9, 3.2, 4.8, 1.8],\n",
       "       [6.1, 2.8, 4. , 1.3],\n",
       "       [6.3, 2.5, 4.9, 1.5],\n",
       "       [6.1, 2.8, 4.7, 1.2],\n",
       "       [6.4, 2.9, 4.3, 1.3],\n",
       "       [6.6, 3. , 4.4, 1.4],\n",
       "       [6.8, 2.8, 4.8, 1.4],\n",
       "       [6.7, 3. , 5. , 1.7],\n",
       "       [6. , 2.9, 4.5, 1.5],\n",
       "       [5.7, 2.6, 3.5, 1. ],\n",
       "       [5.5, 2.4, 3.8, 1.1],\n",
       "       [5.5, 2.4, 3.7, 1. ],\n",
       "       [5.8, 2.7, 3.9, 1.2],\n",
       "       [6. , 2.7, 5.1, 1.6],\n",
       "       [5.4, 3. , 4.5, 1.5],\n",
       "       [6. , 3.4, 4.5, 1.6],\n",
       "       [6.7, 3.1, 4.7, 1.5],\n",
       "       [6.3, 2.3, 4.4, 1.3],\n",
       "       [5.6, 3. , 4.1, 1.3],\n",
       "       [5.5, 2.5, 4. , 1.3],\n",
       "       [5.5, 2.6, 4.4, 1.2],\n",
       "       [6.1, 3. , 4.6, 1.4],\n",
       "       [5.8, 2.6, 4. , 1.2],\n",
       "       [5. , 2.3, 3.3, 1. ],\n",
       "       [5.6, 2.7, 4.2, 1.3],\n",
       "       [5.7, 3. , 4.2, 1.2],\n",
       "       [5.7, 2.9, 4.2, 1.3],\n",
       "       [6.2, 2.9, 4.3, 1.3],\n",
       "       [5.1, 2.5, 3. , 1.1],\n",
       "       [5.7, 2.8, 4.1, 1.3]])"
      ]
     },
     "execution_count": 3,
     "metadata": {},
     "output_type": "execute_result"
    }
   ],
   "source": [
    "X = dataset.iloc[:,1:5].values\n",
    "X"
   ]
  },
  {
   "cell_type": "code",
   "execution_count": 4,
   "id": "be0f132f",
   "metadata": {},
   "outputs": [
    {
     "data": {
      "text/plain": [
       "array([0, 0, 0, 0, 0, 0, 0, 0, 0, 0, 0, 0, 0, 0, 0, 0, 0, 0, 0, 0, 0, 0,\n",
       "       0, 0, 0, 0, 0, 0, 0, 0, 0, 0, 0, 0, 0, 0, 0, 0, 0, 0, 0, 0, 0, 0,\n",
       "       0, 0, 0, 0, 0, 0, 1, 1, 1, 1, 1, 1, 1, 1, 1, 1, 1, 1, 1, 1, 1, 1,\n",
       "       1, 1, 1, 1, 1, 1, 1, 1, 1, 1, 1, 1, 1, 1, 1, 1, 1, 1, 1, 1, 1, 1,\n",
       "       1, 1, 1, 1, 1, 1, 1, 1, 1, 1, 1, 1], dtype=int64)"
      ]
     },
     "execution_count": 4,
     "metadata": {},
     "output_type": "execute_result"
    }
   ],
   "source": [
    "y = dataset.iloc[:,5].values\n",
    "#y = np.array(y,dtype=np.float32)\n",
    "y"
   ]
  },
  {
   "cell_type": "markdown",
   "id": "bf8ccb7d",
   "metadata": {},
   "source": [
    "### codificacion datos categoricos"
   ]
  },
  {
   "cell_type": "markdown",
   "id": "bc74e32c",
   "metadata": {},
   "source": [
    "from sklearn.preprocessing import LabelEncoder, OneHotEncoder\n",
    "from sklearn.compose import ColumnTransformer"
   ]
  },
  {
   "cell_type": "markdown",
   "id": "e0853934",
   "metadata": {},
   "source": [
    "labelencoder_X_1=LabelEncoder()\n",
    "X[:,1]=labelencoder_X_1.fit_transform(X[:,1])\n",
    "X"
   ]
  },
  {
   "cell_type": "markdown",
   "id": "fed7b9ac",
   "metadata": {},
   "source": [
    "labelencoder_X_2=LabelEncoder()\n",
    "X[:,2]=labelencoder_X_2.fit_transform(X[:,2])\n",
    "X"
   ]
  },
  {
   "cell_type": "markdown",
   "id": "438a89d7",
   "metadata": {},
   "source": [
    "#### creacion de las variables dummies"
   ]
  },
  {
   "cell_type": "markdown",
   "id": "79e31ab6",
   "metadata": {},
   "source": [
    "cuando se cambia una variable categorica en una nueva clase "
   ]
  },
  {
   "cell_type": "markdown",
   "id": "55893d45",
   "metadata": {},
   "source": [
    "transformer = ColumnTransformer(\n",
    "    transformers=[\n",
    "        (\"OneHot\",        # Just a name\n",
    "         OneHotEncoder(), # The transformer class\n",
    "         [1]              # The column(s) to be applied on.\n",
    "         )\n",
    "    ],\n",
    "    remainder='passthrough' # donot apply anything to the remaining columns\n",
    ")\n",
    "X = transformer.fit_transform(X.tolist())\n",
    "X = np.array(X,dtype=np.float32)\n",
    "X.dtype"
   ]
  },
  {
   "cell_type": "markdown",
   "id": "86659cfe",
   "metadata": {},
   "source": [
    "### Division de los datos de prueb a y entrenamiento"
   ]
  },
  {
   "cell_type": "code",
   "execution_count": 5,
   "id": "ba409ee9",
   "metadata": {},
   "outputs": [],
   "source": [
    "from sklearn.model_selection import train_test_split"
   ]
  },
  {
   "cell_type": "code",
   "execution_count": 6,
   "id": "3c6de666",
   "metadata": {},
   "outputs": [],
   "source": [
    "X_train, X_test, y_train, y_test = train_test_split(X,y,test_size=0.2, random_state=0)"
   ]
  },
  {
   "cell_type": "markdown",
   "id": "b7a82468",
   "metadata": {},
   "source": [
    "### Ajustar las escalas"
   ]
  },
  {
   "cell_type": "code",
   "execution_count": 7,
   "id": "fe08c7ac",
   "metadata": {},
   "outputs": [],
   "source": [
    "from sklearn.preprocessing import StandardScaler"
   ]
  },
  {
   "cell_type": "code",
   "execution_count": 8,
   "id": "0e81046c",
   "metadata": {},
   "outputs": [],
   "source": [
    "sc=StandardScaler()\n",
    "X_train=sc.fit_transform(X_train)\n",
    "X_test=sc.transform(X_test)"
   ]
  },
  {
   "cell_type": "code",
   "execution_count": null,
   "id": "38734076",
   "metadata": {},
   "outputs": [],
   "source": []
  },
  {
   "cell_type": "markdown",
   "id": "2f52ea34",
   "metadata": {},
   "source": [
    "# Creacion de la Red Neuronal"
   ]
  },
  {
   "cell_type": "markdown",
   "id": "31266923",
   "metadata": {},
   "source": [
    "### importacion de las librerias"
   ]
  },
  {
   "cell_type": "code",
   "execution_count": 9,
   "id": "ba304541",
   "metadata": {},
   "outputs": [],
   "source": [
    "import keras\n",
    "from keras.models import Sequential #arquitectura\n",
    "from keras.layers import Dense      #capa de la red  \n",
    "from keras.layers import Flatten"
   ]
  },
  {
   "cell_type": "markdown",
   "id": "5095562e",
   "metadata": {},
   "source": [
    "### inicialziacion de la red neuronal"
   ]
  },
  {
   "cell_type": "code",
   "execution_count": 10,
   "id": "eb45a5a6",
   "metadata": {},
   "outputs": [],
   "source": [
    "red = Sequential()"
   ]
  },
  {
   "cell_type": "markdown",
   "id": "0a707523",
   "metadata": {},
   "source": [
    "### capa de entrada"
   ]
  },
  {
   "cell_type": "markdown",
   "id": "29669f4e",
   "metadata": {},
   "source": [
    "tenemos 11 variables de entrada y una de salida (si,no)\n",
    "ademas de construiran 2 capas ocultas de 12 neuronas cada una\n"
   ]
  },
  {
   "cell_type": "code",
   "execution_count": 11,
   "id": "add069bf",
   "metadata": {},
   "outputs": [],
   "source": [
    "capa_1=Dense(1,input_dim=4,use_bias=1,activation='sigmoid')\n",
    "capa_2=Dense(4,use_bias=1,activation='sigmoid')\n",
    "capa_3=Dense(1,use_bias=1,activation='sigmoid')"
   ]
  },
  {
   "cell_type": "code",
   "execution_count": 12,
   "id": "0713b6b4",
   "metadata": {},
   "outputs": [],
   "source": [
    "red.add(capa_1)\n",
    "#red.add(capa_2)\n",
    "#red.add(capa_3)"
   ]
  },
  {
   "cell_type": "markdown",
   "id": "e43b8e5a",
   "metadata": {},
   "source": [
    "### activacion"
   ]
  },
  {
   "cell_type": "code",
   "execution_count": 13,
   "id": "523d619c",
   "metadata": {},
   "outputs": [],
   "source": [
    "red.compile(\n",
    "    optimizer='adam',\n",
    "    loss='binary_crossentropy', #binary_crossentropy\n",
    "    metrics=['accuracy']\n",
    ")"
   ]
  },
  {
   "cell_type": "code",
   "execution_count": 14,
   "id": "97372e4e",
   "metadata": {},
   "outputs": [
    {
     "data": {
      "text/plain": [
       "(80, 4)"
      ]
     },
     "execution_count": 14,
     "metadata": {},
     "output_type": "execute_result"
    }
   ],
   "source": [
    "np.shape(X_train)"
   ]
  },
  {
   "cell_type": "markdown",
   "id": "b99f5dba",
   "metadata": {},
   "source": [
    "### entrenamiento"
   ]
  },
  {
   "cell_type": "code",
   "execution_count": 15,
   "id": "d6d87cd7",
   "metadata": {},
   "outputs": [
    {
     "name": "stdout",
     "output_type": "stream",
     "text": [
      "Epoch 1/10\n",
      "80/80 [==============================] - 0s 791us/step - loss: 1.6639 - accuracy: 0.0250\n",
      "Epoch 2/10\n",
      "80/80 [==============================] - 0s 1ms/step - loss: 1.4992 - accuracy: 0.0625\n",
      "Epoch 3/10\n",
      "80/80 [==============================] - 0s 874us/step - loss: 1.3472 - accuracy: 0.0750\n",
      "Epoch 4/10\n",
      "80/80 [==============================] - 0s 873us/step - loss: 1.2088 - accuracy: 0.2125\n",
      "Epoch 5/10\n",
      "80/80 [==============================] - 0s 791us/step - loss: 1.0835 - accuracy: 0.3125\n",
      "Epoch 6/10\n",
      "80/80 [==============================] - 0s 874us/step - loss: 0.9710 - accuracy: 0.3500\n",
      "Epoch 7/10\n",
      "80/80 [==============================] - 0s 1ms/step - loss: 0.8712 - accuracy: 0.3875\n",
      "Epoch 8/10\n",
      "80/80 [==============================] - 0s 874us/step - loss: 0.7827 - accuracy: 0.4625\n",
      "Epoch 9/10\n",
      "80/80 [==============================] - 0s 871us/step - loss: 0.7050 - accuracy: 0.5125\n",
      "Epoch 10/10\n",
      "80/80 [==============================] - 0s 989us/step - loss: 0.6364 - accuracy: 0.6375\n",
      "Epoch 1/10\n",
      "80/80 [==============================] - 0s 1ms/step - loss: 0.5755 - accuracy: 0.7250\n",
      "Epoch 2/10\n",
      "80/80 [==============================] - 0s 1ms/step - loss: 0.5222 - accuracy: 0.7375\n",
      "Epoch 3/10\n",
      "80/80 [==============================] - 0s 989us/step - loss: 0.4753 - accuracy: 0.8125\n",
      "Epoch 4/10\n",
      "80/80 [==============================] - 0s 1ms/step - loss: 0.4336 - accuracy: 0.8500\n",
      "Epoch 5/10\n",
      "80/80 [==============================] - 0s 1ms/step - loss: 0.3970 - accuracy: 0.8875\n",
      "Epoch 6/10\n",
      "80/80 [==============================] - 0s 941us/step - loss: 0.3639 - accuracy: 0.8875\n",
      "Epoch 7/10\n",
      "80/80 [==============================] - 0s 1ms/step - loss: 0.3348 - accuracy: 0.9125\n",
      "Epoch 8/10\n",
      "80/80 [==============================] - 0s 989us/step - loss: 0.3087 - accuracy: 0.9125\n",
      "Epoch 9/10\n",
      "80/80 [==============================] - 0s 874us/step - loss: 0.2851 - accuracy: 0.9250\n",
      "Epoch 10/10\n",
      "80/80 [==============================] - 0s 874us/step - loss: 0.2643 - accuracy: 0.9625\n",
      "Epoch 1/10\n",
      "80/80 [==============================] - 0s 1ms/step - loss: 0.2451 - accuracy: 0.9625\n",
      "Epoch 2/10\n",
      "80/80 [==============================] - 0s 873us/step - loss: 0.2282 - accuracy: 0.9625\n",
      "Epoch 3/10\n",
      "80/80 [==============================] - 0s 1ms/step - loss: 0.2126 - accuracy: 0.9625\n",
      "Epoch 4/10\n",
      "80/80 [==============================] - 0s 1ms/step - loss: 0.1984 - accuracy: 0.9625\n",
      "Epoch 5/10\n",
      "80/80 [==============================] - 0s 1ms/step - loss: 0.1856 - accuracy: 0.9625\n",
      "Epoch 6/10\n",
      "80/80 [==============================] - 0s 989us/step - loss: 0.1738 - accuracy: 0.9625\n",
      "Epoch 7/10\n",
      "80/80 [==============================] - 0s 1ms/step - loss: 0.1632 - accuracy: 0.9625\n",
      "Epoch 8/10\n",
      "80/80 [==============================] - 0s 1ms/step - loss: 0.1533 - accuracy: 0.9625\n",
      "Epoch 9/10\n",
      "80/80 [==============================] - 0s 1ms/step - loss: 0.1443 - accuracy: 0.9625\n",
      "Epoch 10/10\n",
      "80/80 [==============================] - 0s 873us/step - loss: 0.1359 - accuracy: 0.9625\n",
      "Epoch 1/10\n",
      "80/80 [==============================] - 0s 874us/step - loss: 0.1281 - accuracy: 0.9875\n",
      "Epoch 2/10\n",
      "80/80 [==============================] - 0s 1ms/step - loss: 0.1210 - accuracy: 0.9875\n",
      "Epoch 3/10\n",
      "80/80 [==============================] - 0s 1ms/step - loss: 0.1144 - accuracy: 0.9875\n",
      "Epoch 4/10\n",
      "80/80 [==============================] - 0s 1ms/step - loss: 0.1083 - accuracy: 0.9875\n",
      "Epoch 5/10\n",
      "80/80 [==============================] - 0s 966us/step - loss: 0.1026 - accuracy: 0.9875\n",
      "Epoch 6/10\n",
      "80/80 [==============================] - 0s 1ms/step - loss: 0.0972 - accuracy: 0.9875\n",
      "Epoch 7/10\n",
      "80/80 [==============================] - 0s 874us/step - loss: 0.0923 - accuracy: 0.9875\n",
      "Epoch 8/10\n",
      "80/80 [==============================] - 0s 1ms/step - loss: 0.0876 - accuracy: 0.9875\n",
      "Epoch 9/10\n",
      "80/80 [==============================] - 0s 1ms/step - loss: 0.0833 - accuracy: 0.9875\n",
      "Epoch 10/10\n",
      "80/80 [==============================] - 0s 989us/step - loss: 0.0792 - accuracy: 1.0000\n",
      "Epoch 1/10\n",
      "80/80 [==============================] - 0s 1ms/step - loss: 0.0754 - accuracy: 1.0000\n",
      "Epoch 2/10\n",
      "80/80 [==============================] - 0s 1ms/step - loss: 0.0718 - accuracy: 1.0000\n",
      "Epoch 3/10\n",
      "80/80 [==============================] - 0s 1ms/step - loss: 0.0684 - accuracy: 1.0000\n",
      "Epoch 4/10\n",
      "80/80 [==============================] - 0s 1ms/step - loss: 0.0652 - accuracy: 1.0000\n",
      "Epoch 5/10\n",
      "80/80 [==============================] - 0s 1ms/step - loss: 0.0623 - accuracy: 1.0000\n",
      "Epoch 6/10\n",
      "80/80 [==============================] - 0s 1ms/step - loss: 0.0595 - accuracy: 1.0000\n",
      "Epoch 7/10\n",
      "80/80 [==============================] - 0s 1ms/step - loss: 0.0568 - accuracy: 1.0000\n",
      "Epoch 8/10\n",
      "80/80 [==============================] - 0s 989us/step - loss: 0.0543 - accuracy: 1.0000\n",
      "Epoch 9/10\n",
      "80/80 [==============================] - 0s 989us/step - loss: 0.0519 - accuracy: 1.0000\n",
      "Epoch 10/10\n",
      "80/80 [==============================] - 0s 1ms/step - loss: 0.0496 - accuracy: 1.0000\n",
      "Epoch 1/10\n",
      "80/80 [==============================] - 0s 989us/step - loss: 0.0475 - accuracy: 1.0000\n",
      "Epoch 2/10\n",
      "80/80 [==============================] - 0s 874us/step - loss: 0.0455 - accuracy: 1.0000\n",
      "Epoch 3/10\n",
      "80/80 [==============================] - 0s 1ms/step - loss: 0.0436 - accuracy: 1.0000\n",
      "Epoch 4/10\n",
      "80/80 [==============================] - 0s 1ms/step - loss: 0.0418 - accuracy: 1.0000\n",
      "Epoch 5/10\n",
      "80/80 [==============================] - 0s 869us/step - loss: 0.0400 - accuracy: 1.0000\n",
      "Epoch 6/10\n",
      "80/80 [==============================] - 0s 989us/step - loss: 0.0384 - accuracy: 1.0000\n",
      "Epoch 7/10\n",
      "80/80 [==============================] - 0s 873us/step - loss: 0.0368 - accuracy: 1.0000\n",
      "Epoch 8/10\n",
      "80/80 [==============================] - 0s 873us/step - loss: 0.0353 - accuracy: 1.0000\n",
      "Epoch 9/10\n",
      "80/80 [==============================] - 0s 874us/step - loss: 0.0339 - accuracy: 1.0000\n",
      "Epoch 10/10\n",
      "80/80 [==============================] - 0s 791us/step - loss: 0.0326 - accuracy: 1.0000\n",
      "Epoch 1/10\n",
      "80/80 [==============================] - 0s 873us/step - loss: 0.0313 - accuracy: 1.0000\n",
      "Epoch 2/10\n",
      "80/80 [==============================] - 0s 989us/step - loss: 0.0300 - accuracy: 1.0000\n",
      "Epoch 3/10\n",
      "80/80 [==============================] - 0s 1ms/step - loss: 0.0289 - accuracy: 1.0000\n",
      "Epoch 4/10\n",
      "80/80 [==============================] - 0s 1ms/step - loss: 0.0277 - accuracy: 1.0000\n",
      "Epoch 5/10\n",
      "80/80 [==============================] - 0s 1ms/step - loss: 0.0267 - accuracy: 1.0000\n",
      "Epoch 6/10\n",
      "80/80 [==============================] - 0s 873us/step - loss: 0.0257 - accuracy: 1.0000\n",
      "Epoch 7/10\n",
      "80/80 [==============================] - 0s 805us/step - loss: 0.0247 - accuracy: 1.0000\n",
      "Epoch 8/10\n",
      "80/80 [==============================] - 0s 1ms/step - loss: 0.0237 - accuracy: 1.0000\n",
      "Epoch 9/10\n",
      "80/80 [==============================] - 0s 874us/step - loss: 0.0228 - accuracy: 1.0000\n",
      "Epoch 10/10\n",
      "80/80 [==============================] - 0s 873us/step - loss: 0.0220 - accuracy: 1.0000\n",
      "Epoch 1/10\n",
      "80/80 [==============================] - 0s 777us/step - loss: 0.0212 - accuracy: 1.0000\n",
      "Epoch 2/10\n",
      "80/80 [==============================] - 0s 874us/step - loss: 0.0204 - accuracy: 1.0000\n",
      "Epoch 3/10\n",
      "80/80 [==============================] - 0s 989us/step - loss: 0.0196 - accuracy: 1.0000\n",
      "Epoch 4/10\n",
      "80/80 [==============================] - 0s 874us/step - loss: 0.0189 - accuracy: 1.0000\n",
      "Epoch 5/10\n",
      "80/80 [==============================] - 0s 1ms/step - loss: 0.0182 - accuracy: 1.0000\n",
      "Epoch 6/10\n",
      "80/80 [==============================] - 0s 874us/step - loss: 0.0175 - accuracy: 1.0000\n",
      "Epoch 7/10\n",
      "80/80 [==============================] - 0s 989us/step - loss: 0.0169 - accuracy: 1.0000\n",
      "Epoch 8/10\n",
      "80/80 [==============================] - 0s 1ms/step - loss: 0.0163 - accuracy: 1.0000\n",
      "Epoch 9/10\n",
      "80/80 [==============================] - 0s 874us/step - loss: 0.0157 - accuracy: 1.0000\n",
      "Epoch 10/10\n",
      "80/80 [==============================] - 0s 1ms/step - loss: 0.0151 - accuracy: 1.0000\n",
      "848 ms ± 26 ms per loop (mean ± std. dev. of 7 runs, 1 loop each)\n"
     ]
    }
   ],
   "source": [
    "%%timeit \n",
    "red.fit(X_train,\n",
    "        y_train,\n",
    "        epochs=10,\n",
    "        batch_size=1\n",
    "       )"
   ]
  },
  {
   "cell_type": "markdown",
   "id": "5dc27877",
   "metadata": {},
   "source": [
    "### predicción"
   ]
  },
  {
   "cell_type": "code",
   "execution_count": 16,
   "id": "77935661",
   "metadata": {},
   "outputs": [
    {
     "data": {
      "text/plain": [
       "array([[0.01501057],\n",
       "       [0.99944305],\n",
       "       [0.0042941 ],\n",
       "       [0.9924592 ],\n",
       "       [0.99890554],\n",
       "       [0.8803444 ],\n",
       "       [0.00961566],\n",
       "       [0.9967769 ],\n",
       "       [0.9994749 ],\n",
       "       [0.97802556],\n",
       "       [0.992832  ],\n",
       "       [0.9907944 ],\n",
       "       [0.9975967 ],\n",
       "       [0.00147876],\n",
       "       [0.00710458],\n",
       "       [0.00936404],\n",
       "       [0.00102875],\n",
       "       [0.0068309 ],\n",
       "       [0.00376186],\n",
       "       [0.00446403]], dtype=float32)"
      ]
     },
     "execution_count": 16,
     "metadata": {},
     "output_type": "execute_result"
    }
   ],
   "source": [
    "y_pred=red.predict(X_test)\n",
    "y_pred"
   ]
  },
  {
   "cell_type": "code",
   "execution_count": 17,
   "id": "22282edd",
   "metadata": {},
   "outputs": [
    {
     "data": {
      "text/plain": [
       "array([[0.],\n",
       "       [1.],\n",
       "       [0.],\n",
       "       [1.],\n",
       "       [1.],\n",
       "       [1.],\n",
       "       [0.],\n",
       "       [1.],\n",
       "       [1.],\n",
       "       [1.],\n",
       "       [1.],\n",
       "       [1.],\n",
       "       [1.],\n",
       "       [0.],\n",
       "       [0.],\n",
       "       [0.],\n",
       "       [0.],\n",
       "       [0.],\n",
       "       [0.],\n",
       "       [0.]], dtype=float32)"
      ]
     },
     "execution_count": 17,
     "metadata": {},
     "output_type": "execute_result"
    }
   ],
   "source": [
    "y_pred = np.round(y_pred)\n",
    "y_pred"
   ]
  },
  {
   "cell_type": "markdown",
   "id": "a577af88",
   "metadata": {},
   "source": [
    "### comparacion de resultados"
   ]
  },
  {
   "cell_type": "code",
   "execution_count": 18,
   "id": "847b208e",
   "metadata": {},
   "outputs": [],
   "source": [
    "from sklearn.metrics import confusion_matrix\n",
    "cm= confusion_matrix(y_test,y_pred)"
   ]
  },
  {
   "cell_type": "code",
   "execution_count": 19,
   "id": "babd37aa",
   "metadata": {},
   "outputs": [
    {
     "data": {
      "text/plain": [
       "array([[10,  0],\n",
       "       [ 0, 10]], dtype=int64)"
      ]
     },
     "execution_count": 19,
     "metadata": {},
     "output_type": "execute_result"
    }
   ],
   "source": [
    "cm"
   ]
  },
  {
   "cell_type": "markdown",
   "id": "87e05c49",
   "metadata": {},
   "source": [
    "array([[1506,   89],\n",
    "       [ 189,  216]], dtype=int64)"
   ]
  },
  {
   "cell_type": "code",
   "execution_count": 20,
   "id": "cce86003",
   "metadata": {},
   "outputs": [
    {
     "name": "stdout",
     "output_type": "stream",
     "text": [
      "3/3 [==============================] - 0s 0s/step - loss: 0.0149 - accuracy: 1.0000\n",
      "\n",
      "accuracy: 100.00%\n"
     ]
    }
   ],
   "source": [
    "scores = red.evaluate(X_train, y_train)\n",
    "print(\"\\n%s: %.2f%%\" % (red.metrics_names[1], scores[1]*100))"
   ]
  },
  {
   "cell_type": "code",
   "execution_count": 21,
   "id": "910fada3",
   "metadata": {},
   "outputs": [
    {
     "name": "stdout",
     "output_type": "stream",
     "text": [
      "1/1 [==============================] - 0s 31ms/step - loss: 0.0122 - accuracy: 1.0000\n",
      "\n",
      "accuracy: 100.00%\n"
     ]
    }
   ],
   "source": [
    "scores = red.evaluate(X_test, y_test)\n",
    "print(\"\\n%s: %.2f%%\" % (red.metrics_names[1], scores[1]*100))"
   ]
  },
  {
   "cell_type": "code",
   "execution_count": 22,
   "id": "5428eac7",
   "metadata": {},
   "outputs": [
    {
     "name": "stdout",
     "output_type": "stream",
     "text": [
      "              precision    recall  f1-score   support\n",
      "\n",
      "         0.0       1.00      1.00      1.00        10\n",
      "         1.0       1.00      1.00      1.00        10\n",
      "\n",
      "    accuracy                           1.00        20\n",
      "   macro avg       1.00      1.00      1.00        20\n",
      "weighted avg       1.00      1.00      1.00        20\n",
      "\n"
     ]
    }
   ],
   "source": [
    "from sklearn.metrics import classification_report\n",
    "print(classification_report(y_pred,y_test))"
   ]
  },
  {
   "cell_type": "code",
   "execution_count": null,
   "id": "2f1d4258",
   "metadata": {},
   "outputs": [],
   "source": []
  },
  {
   "cell_type": "code",
   "execution_count": null,
   "id": "af317f62",
   "metadata": {},
   "outputs": [],
   "source": []
  },
  {
   "cell_type": "code",
   "execution_count": null,
   "id": "2c32f9e9",
   "metadata": {},
   "outputs": [],
   "source": []
  }
 ],
 "metadata": {
  "kernelspec": {
   "display_name": "Python 3 (ipykernel)",
   "language": "python",
   "name": "python3"
  },
  "language_info": {
   "codemirror_mode": {
    "name": "ipython",
    "version": 3
   },
   "file_extension": ".py",
   "mimetype": "text/x-python",
   "name": "python",
   "nbconvert_exporter": "python",
   "pygments_lexer": "ipython3",
   "version": "3.9.7"
  }
 },
 "nbformat": 4,
 "nbformat_minor": 5
}
